{
 "cells": [
  {
   "cell_type": "markdown",
   "id": "8eac9e08-e588-49f9-9d10-3e47328ab99d",
   "metadata": {},
   "source": [
    "#### Libraries"
   ]
  },
  {
   "cell_type": "code",
   "execution_count": 109,
   "id": "d73f634b-54e5-4cd8-864e-083ba84c4884",
   "metadata": {},
   "outputs": [
    {
     "name": "stderr",
     "output_type": "stream",
     "text": [
      "[nltk_data] Downloading package stopwords to\n",
      "[nltk_data]     C:\\Users\\Busss\\AppData\\Roaming\\nltk_data...\n",
      "[nltk_data]   Package stopwords is already up-to-date!\n",
      "[nltk_data] Downloading package wordnet to\n",
      "[nltk_data]     C:\\Users\\Busss\\AppData\\Roaming\\nltk_data...\n",
      "[nltk_data]   Package wordnet is already up-to-date!\n"
     ]
    },
    {
     "data": {
      "text/plain": [
       "True"
      ]
     },
     "execution_count": 109,
     "metadata": {},
     "output_type": "execute_result"
    }
   ],
   "source": [
    "import nltk\n",
    "import numpy as np\n",
    "import pandas as pd\n",
    "import seaborn as sns\n",
    "import string\n",
    "import gensim\n",
    "import matplotlib.pyplot as plt\n",
    "\n",
    "from pprint import pprint\n",
    "from sklearn.cluster import KMeans\n",
    "from sklearn.decomposition import PCA\n",
    "\n",
    "from nltk import pos_tag, word_tokenize\n",
    "from nltk.tokenize import word_tokenize\n",
    "from nltk.corpus import stopwords, wordnet\n",
    "from nltk.stem import SnowballStemmer\n",
    "from nltk.stem.snowball import SnowballStemmer\n",
    "\n",
    "from sklearn.model_selection import train_test_split\n",
    "from sklearn.feature_extraction.text import TfidfVectorizer, CountVectorizer\n",
    "from sklearn.cluster import KMeans\n",
    "\n",
    "from gensim.utils import simple_preprocess\n",
    "from gensim.parsing.preprocessing import STOPWORDS\n",
    "from nltk.stem import WordNetLemmatizer, SnowballStemmer\n",
    "from gensim import corpora, models\n",
    "from nltk.stem.porter import *\n",
    "\n",
    "nltk.download('stopwords')\n",
    "nltk.download('wordnet')"
   ]
  },
  {
   "cell_type": "markdown",
   "id": "e48dc676-3442-485e-9310-cab334f1c782",
   "metadata": {},
   "source": [
    "#### Loading the data"
   ]
  },
  {
   "cell_type": "code",
   "execution_count": 18,
   "id": "1e0fda93-333c-478d-8aed-77d70e013f7d",
   "metadata": {},
   "outputs": [
    {
     "name": "stderr",
     "output_type": "stream",
     "text": [
      "C:\\Users\\Busss\\anaconda3\\lib\\site-packages\\IPython\\core\\interactiveshell.py:3165: DtypeWarning: Columns (10,11) have mixed types.Specify dtype option on import or set low_memory=False.\n",
      "  has_raised = await self.run_ast_nodes(code_ast.body, cell_name,\n"
     ]
    },
    {
     "data": {
      "text/plain": [
       "(204135, 12)"
      ]
     },
     "execution_count": 18,
     "metadata": {},
     "output_type": "execute_result"
    }
   ],
   "source": [
    "df = pd.read_csv('data/data.csv')\n",
    "df.shape"
   ]
  },
  {
   "cell_type": "code",
   "execution_count": 19,
   "id": "18093572-0e87-4a83-b003-0a33df92c550",
   "metadata": {},
   "outputs": [
    {
     "data": {
      "text/html": [
       "<div>\n",
       "<style scoped>\n",
       "    .dataframe tbody tr th:only-of-type {\n",
       "        vertical-align: middle;\n",
       "    }\n",
       "\n",
       "    .dataframe tbody tr th {\n",
       "        vertical-align: top;\n",
       "    }\n",
       "\n",
       "    .dataframe thead th {\n",
       "        text-align: right;\n",
       "    }\n",
       "</style>\n",
       "<table border=\"1\" class=\"dataframe\">\n",
       "  <thead>\n",
       "    <tr style=\"text-align: right;\">\n",
       "      <th></th>\n",
       "      <th>id</th>\n",
       "      <th>title</th>\n",
       "      <th>author</th>\n",
       "      <th>date</th>\n",
       "      <th>content</th>\n",
       "      <th>year</th>\n",
       "      <th>month</th>\n",
       "      <th>publication</th>\n",
       "      <th>category</th>\n",
       "      <th>digital</th>\n",
       "      <th>section</th>\n",
       "      <th>url</th>\n",
       "    </tr>\n",
       "  </thead>\n",
       "  <tbody>\n",
       "    <tr>\n",
       "      <th>0</th>\n",
       "      <td>1</td>\n",
       "      <td>Agent Cooper in Twin Peaks is the audience: on...</td>\n",
       "      <td>\\nTasha Robinson\\n</td>\n",
       "      <td>2017-05-31</td>\n",
       "      <td>And never more so than in Showtime’s new...</td>\n",
       "      <td>2017.0</td>\n",
       "      <td>5.0</td>\n",
       "      <td>Verge</td>\n",
       "      <td>Longform</td>\n",
       "      <td>1.0</td>\n",
       "      <td>NaN</td>\n",
       "      <td>NaN</td>\n",
       "    </tr>\n",
       "    <tr>\n",
       "      <th>1</th>\n",
       "      <td>2</td>\n",
       "      <td>AI, the humanity!</td>\n",
       "      <td>\\nSam Byford\\n</td>\n",
       "      <td>2017-05-30</td>\n",
       "      <td>AlphaGo’s victory isn’t a defeat for hum...</td>\n",
       "      <td>2017.0</td>\n",
       "      <td>5.0</td>\n",
       "      <td>Verge</td>\n",
       "      <td>Longform</td>\n",
       "      <td>1.0</td>\n",
       "      <td>NaN</td>\n",
       "      <td>NaN</td>\n",
       "    </tr>\n",
       "    <tr>\n",
       "      <th>2</th>\n",
       "      <td>3</td>\n",
       "      <td>The Viral Machine</td>\n",
       "      <td>\\nKaitlyn Tiffany\\n</td>\n",
       "      <td>2017-05-25</td>\n",
       "      <td>Super Deluxe built a weird internet empi...</td>\n",
       "      <td>2017.0</td>\n",
       "      <td>5.0</td>\n",
       "      <td>Verge</td>\n",
       "      <td>Longform</td>\n",
       "      <td>1.0</td>\n",
       "      <td>NaN</td>\n",
       "      <td>NaN</td>\n",
       "    </tr>\n",
       "    <tr>\n",
       "      <th>3</th>\n",
       "      <td>4</td>\n",
       "      <td>How Anker is beating Apple and Samsung at thei...</td>\n",
       "      <td>\\nNick Statt\\n</td>\n",
       "      <td>2017-05-22</td>\n",
       "      <td>Steven Yang quit his job at Google in th...</td>\n",
       "      <td>2017.0</td>\n",
       "      <td>5.0</td>\n",
       "      <td>Verge</td>\n",
       "      <td>Longform</td>\n",
       "      <td>1.0</td>\n",
       "      <td>NaN</td>\n",
       "      <td>NaN</td>\n",
       "    </tr>\n",
       "    <tr>\n",
       "      <th>4</th>\n",
       "      <td>5</td>\n",
       "      <td>Tour Black Panther’s reimagined homeland with ...</td>\n",
       "      <td>\\nKwame Opam\\n</td>\n",
       "      <td>2017-05-15</td>\n",
       "      <td>Ahead of Black Panther’s 2018 theatrical...</td>\n",
       "      <td>2017.0</td>\n",
       "      <td>5.0</td>\n",
       "      <td>Verge</td>\n",
       "      <td>Longform</td>\n",
       "      <td>1.0</td>\n",
       "      <td>NaN</td>\n",
       "      <td>NaN</td>\n",
       "    </tr>\n",
       "  </tbody>\n",
       "</table>\n",
       "</div>"
      ],
      "text/plain": [
       "   id                                              title               author  \\\n",
       "0   1  Agent Cooper in Twin Peaks is the audience: on...   \\nTasha Robinson\\n   \n",
       "1   2                                  AI, the humanity!       \\nSam Byford\\n   \n",
       "2   3                                  The Viral Machine  \\nKaitlyn Tiffany\\n   \n",
       "3   4  How Anker is beating Apple and Samsung at thei...       \\nNick Statt\\n   \n",
       "4   5  Tour Black Panther’s reimagined homeland with ...       \\nKwame Opam\\n   \n",
       "\n",
       "         date                                            content    year  \\\n",
       "0  2017-05-31        And never more so than in Showtime’s new...  2017.0   \n",
       "1  2017-05-30        AlphaGo’s victory isn’t a defeat for hum...  2017.0   \n",
       "2  2017-05-25        Super Deluxe built a weird internet empi...  2017.0   \n",
       "3  2017-05-22        Steven Yang quit his job at Google in th...  2017.0   \n",
       "4  2017-05-15        Ahead of Black Panther’s 2018 theatrical...  2017.0   \n",
       "\n",
       "   month publication  category  digital section  url  \n",
       "0    5.0       Verge  Longform      1.0     NaN  NaN  \n",
       "1    5.0       Verge  Longform      1.0     NaN  NaN  \n",
       "2    5.0       Verge  Longform      1.0     NaN  NaN  \n",
       "3    5.0       Verge  Longform      1.0     NaN  NaN  \n",
       "4    5.0       Verge  Longform      1.0     NaN  NaN  "
      ]
     },
     "execution_count": 19,
     "metadata": {},
     "output_type": "execute_result"
    }
   ],
   "source": [
    "df.head()"
   ]
  },
  {
   "cell_type": "markdown",
   "id": "49eac3be-65dc-4645-9f89-00dc79b06ae8",
   "metadata": {},
   "source": [
    "#### Removing all columns except the 'content' column"
   ]
  },
  {
   "cell_type": "code",
   "execution_count": 20,
   "id": "ce011ccd-3255-45a3-93b9-5d21a3e1fc5f",
   "metadata": {},
   "outputs": [],
   "source": [
    "remove = [i for i in df.columns if i!='content']"
   ]
  },
  {
   "cell_type": "code",
   "execution_count": 21,
   "id": "eb5e3b0f-6863-4dfa-9c81-71036a2f7d41",
   "metadata": {},
   "outputs": [
    {
     "data": {
      "text/html": [
       "<div>\n",
       "<style scoped>\n",
       "    .dataframe tbody tr th:only-of-type {\n",
       "        vertical-align: middle;\n",
       "    }\n",
       "\n",
       "    .dataframe tbody tr th {\n",
       "        vertical-align: top;\n",
       "    }\n",
       "\n",
       "    .dataframe thead th {\n",
       "        text-align: right;\n",
       "    }\n",
       "</style>\n",
       "<table border=\"1\" class=\"dataframe\">\n",
       "  <thead>\n",
       "    <tr style=\"text-align: right;\">\n",
       "      <th></th>\n",
       "      <th>content</th>\n",
       "    </tr>\n",
       "  </thead>\n",
       "  <tbody>\n",
       "    <tr>\n",
       "      <th>0</th>\n",
       "      <td>And never more so than in Showtime’s new...</td>\n",
       "    </tr>\n",
       "    <tr>\n",
       "      <th>1</th>\n",
       "      <td>AlphaGo’s victory isn’t a defeat for hum...</td>\n",
       "    </tr>\n",
       "    <tr>\n",
       "      <th>2</th>\n",
       "      <td>Super Deluxe built a weird internet empi...</td>\n",
       "    </tr>\n",
       "    <tr>\n",
       "      <th>3</th>\n",
       "      <td>Steven Yang quit his job at Google in th...</td>\n",
       "    </tr>\n",
       "    <tr>\n",
       "      <th>4</th>\n",
       "      <td>Ahead of Black Panther’s 2018 theatrical...</td>\n",
       "    </tr>\n",
       "  </tbody>\n",
       "</table>\n",
       "</div>"
      ],
      "text/plain": [
       "                                             content\n",
       "0        And never more so than in Showtime’s new...\n",
       "1        AlphaGo’s victory isn’t a defeat for hum...\n",
       "2        Super Deluxe built a weird internet empi...\n",
       "3        Steven Yang quit his job at Google in th...\n",
       "4        Ahead of Black Panther’s 2018 theatrical..."
      ]
     },
     "execution_count": 21,
     "metadata": {},
     "output_type": "execute_result"
    }
   ],
   "source": [
    "df.drop(remove, axis = 1, inplace=True)\n",
    "df.head()"
   ]
  },
  {
   "cell_type": "code",
   "execution_count": 22,
   "id": "41bc6857-febf-4ad2-a89c-b573467f2455",
   "metadata": {},
   "outputs": [
    {
     "data": {
      "text/plain": [
       "(204135, 1)"
      ]
     },
     "execution_count": 22,
     "metadata": {},
     "output_type": "execute_result"
    }
   ],
   "source": [
    "df.shape"
   ]
  },
  {
   "cell_type": "code",
   "execution_count": 23,
   "id": "bfc19694-5938-40b5-bc79-f95a6c5d5a36",
   "metadata": {},
   "outputs": [
    {
     "name": "stdout",
     "output_type": "stream",
     "text": [
      "<class 'pandas.core.frame.DataFrame'>\n",
      "RangeIndex: 204135 entries, 0 to 204134\n",
      "Data columns (total 1 columns):\n",
      " #   Column   Non-Null Count   Dtype \n",
      "---  ------   --------------   ----- \n",
      " 0   content  188732 non-null  object\n",
      "dtypes: object(1)\n",
      "memory usage: 1.6+ MB\n"
     ]
    }
   ],
   "source": [
    "df.info()"
   ]
  },
  {
   "cell_type": "code",
   "execution_count": 24,
   "id": "dca478f2-858b-4d83-a8a0-a7e862bf6f8b",
   "metadata": {},
   "outputs": [],
   "source": [
    "df.dropna(inplace=True)"
   ]
  },
  {
   "cell_type": "code",
   "execution_count": 25,
   "id": "acdee504-d88f-408e-a825-79a96146ce19",
   "metadata": {},
   "outputs": [
    {
     "data": {
      "text/plain": [
       "(188732, 1)"
      ]
     },
     "execution_count": 25,
     "metadata": {},
     "output_type": "execute_result"
    }
   ],
   "source": [
    "df.shape"
   ]
  },
  {
   "cell_type": "markdown",
   "id": "a9405f63-a3e2-496a-931b-283f8fe3e28e",
   "metadata": {},
   "source": [
    "#### Text preprocess functions"
   ]
  },
  {
   "cell_type": "code",
   "execution_count": 26,
   "id": "9e70ce6d-010d-400e-9408-e88dd835be82",
   "metadata": {},
   "outputs": [],
   "source": [
    "stemmer = SnowballStemmer(\"english\")\n",
    "\n",
    "def lem_stem(word):\n",
    "    return stemmer.stem(WordNetLemmatizer().lemmatize(word))\n",
    "\n",
    "def preprocess(text):\n",
    "    return [lem_stem(token) for token in gensim.utils.simple_preprocess(text) if token not in gensim.parsing.preprocessing.STOPWORDS and len(token) > 3]            \n"
   ]
  },
  {
   "cell_type": "markdown",
   "id": "e58a60ca-689d-4467-ad80-341c32b463e4",
   "metadata": {},
   "source": [
    "#### Checking the functions at work"
   ]
  },
  {
   "cell_type": "code",
   "execution_count": 27,
   "id": "00048bc5-71f3-4f6c-abb2-544aeaae25eb",
   "metadata": {},
   "outputs": [
    {
     "name": "stdout",
     "output_type": "stream",
     "text": [
      "original:       Super Deluxe built a weird internet empire. Can it succeed on TV? When Wolfgang Hammer talks a\n",
      "after: ['super', 'delux', 'built', 'weird', 'internet', 'empir', 'succeed', 'wolfgang', 'hammer', 'talk']\n"
     ]
    }
   ],
   "source": [
    "print('original:',df['content'].iloc[2][:100])\n",
    "print(\"after:\",preprocess(df['content'].iloc[2][:100]))"
   ]
  },
  {
   "cell_type": "markdown",
   "id": "73a418e5-bf55-4a2a-91ba-30bd52a66d05",
   "metadata": {},
   "source": [
    "#### Preprocessing the data"
   ]
  },
  {
   "cell_type": "code",
   "execution_count": 28,
   "id": "5c980445-091b-49f5-bdfa-a5edbabfcb2b",
   "metadata": {},
   "outputs": [],
   "source": [
    "pp_data = df['content'].map(preprocess)"
   ]
  },
  {
   "cell_type": "code",
   "execution_count": 29,
   "id": "f02f88d8-93fd-4f89-b323-21157725904c",
   "metadata": {},
   "outputs": [
    {
     "data": {
      "text/plain": [
       "0    [showtim, seri, reviv, spoiler, ahead, episod,...\n",
       "1    [alphago, victori, defeat, human, opportun, lo...\n",
       "2    [super, delux, built, weird, internet, empir, ...\n",
       "3    [steven, yang, quit, googl, summer, build, pro...\n",
       "4    [ahead, black, panther, theatric, releas, marv...\n",
       "5    [facebook, instant, articl, promis, transform,...\n",
       "6    [weapon, weapon, year, artist, technolog, enth...\n",
       "7    [insid, busi, imagin, futur, dubai, world, loo...\n",
       "8    [legal, threat, disgruntl, client, insid, uber...\n",
       "9    [genius, quiet, laid, bunch, engin, surviv, me...\n",
       "Name: content, dtype: object"
      ]
     },
     "execution_count": 29,
     "metadata": {},
     "output_type": "execute_result"
    }
   ],
   "source": [
    "pp_data[:10]"
   ]
  },
  {
   "cell_type": "markdown",
   "id": "12aa2a88-2171-45d3-85a5-9df8830d68ac",
   "metadata": {},
   "source": [
    "#### Bag-of-Words"
   ]
  },
  {
   "cell_type": "code",
   "execution_count": 30,
   "id": "71f083a3-0b5a-4663-85b8-8cf2f70da3d4",
   "metadata": {},
   "outputs": [],
   "source": [
    "dict_of_words = gensim.corpora.Dictionary(pp_data)"
   ]
  },
  {
   "cell_type": "code",
   "execution_count": 182,
   "id": "e6a9ba83-9bf9-4000-ac09-5df90fa6714b",
   "metadata": {},
   "outputs": [
    {
     "name": "stdout",
     "output_type": "stream",
     "text": [
      "0 abandon\n",
      "1 abil\n",
      "2 absenc\n",
      "3 acknowledg\n",
      "4 act\n",
      "5 adventur\n",
      "6 age\n",
      "7 agent\n",
      "8 ahead\n",
      "9 alarm\n",
      "10 alien\n"
     ]
    }
   ],
   "source": [
    "for i, (key, value) in enumerate(dict_of_words.iteritems()):\n",
    "    print(key, value)\n",
    "    if i == 10:\n",
    "        break"
   ]
  },
  {
   "cell_type": "markdown",
   "id": "59189f2b-6467-441b-bd7d-7433b7ee0c8b",
   "metadata": {},
   "source": [
    "#### Total number of words in dict:"
   ]
  },
  {
   "cell_type": "code",
   "execution_count": 184,
   "id": "ad54185c-1d97-4b55-aea6-4d3d82301b8c",
   "metadata": {},
   "outputs": [
    {
     "name": "stdout",
     "output_type": "stream",
     "text": [
      "total: 42806\n"
     ]
    }
   ],
   "source": [
    "print('total:',len(dict_of_words.iteritems()))"
   ]
  },
  {
   "cell_type": "markdown",
   "id": "977baaab-0e98-4fab-a15c-f061d560da6a",
   "metadata": {},
   "source": [
    "#### Filter out tokens\n",
    "remove < 'no_below', \n",
    "remove > 'no_above',\n",
    "then keep only the first 'keep_n' most"
   ]
  },
  {
   "cell_type": "code",
   "execution_count": 34,
   "id": "dd76f273-435c-4bd5-9118-294312b87ada",
   "metadata": {},
   "outputs": [],
   "source": [
    "dict_of_words.filter_extremes(no_below=15, no_above=0.1, keep_n=50000)"
   ]
  },
  {
   "cell_type": "code",
   "execution_count": 35,
   "id": "b258c5ac-b062-4f7d-b494-705b2738865f",
   "metadata": {},
   "outputs": [],
   "source": [
    "bow_for_docs = [dict_of_words.doc2bow(i) for i in pp_data]"
   ]
  },
  {
   "cell_type": "markdown",
   "id": "897eb4e6-1808-42b5-888f-d6f8b2c427d3",
   "metadata": {},
   "source": [
    "#### How many words in the content at the i-th location\n",
    "(i==2 in this case)"
   ]
  },
  {
   "cell_type": "code",
   "execution_count": 36,
   "id": "e7ceb044-71a3-49d7-9f2a-78e307538e96",
   "metadata": {},
   "outputs": [
    {
     "data": {
      "text/plain": [
       "533"
      ]
     },
     "execution_count": 36,
     "metadata": {},
     "output_type": "execute_result"
    }
   ],
   "source": [
    "len(bow_for_docs[2])"
   ]
  },
  {
   "cell_type": "markdown",
   "id": "1ba6967d-c6d8-4a43-94fc-06be9cb2baa7",
   "metadata": {},
   "source": [
    "#### Check the words at that location\n",
    "(id, count)"
   ]
  },
  {
   "cell_type": "markdown",
   "id": "e56b6d57-bb40-414c-b97f-71cb5d84ce3e",
   "metadata": {},
   "source": [
    "##### Ordered by how they appear in the content - top 10"
   ]
  },
  {
   "cell_type": "code",
   "execution_count": 44,
   "id": "f3747306-ad8b-453e-8617-51b5836e63e1",
   "metadata": {},
   "outputs": [
    {
     "data": {
      "text/plain": [
       "[(5, 1),\n",
       " (11, 1),\n",
       " (16, 1),\n",
       " (18, 4),\n",
       " (26, 1),\n",
       " (31, 1),\n",
       " (39, 3),\n",
       " (40, 3),\n",
       " (41, 1),\n",
       " (43, 1)]"
      ]
     },
     "execution_count": 44,
     "metadata": {},
     "output_type": "execute_result"
    }
   ],
   "source": [
    "bow_for_docs[2][:10]"
   ]
  },
  {
   "cell_type": "markdown",
   "id": "e3deeadb-23a4-4a89-8517-0504d8b9135b",
   "metadata": {},
   "source": [
    "##### Ordered by the most frequent - top 10"
   ]
  },
  {
   "cell_type": "code",
   "execution_count": 49,
   "id": "62ea8553-7512-48af-8c85-760d2a249e26",
   "metadata": {},
   "outputs": [
    {
     "data": {
      "text/plain": [
       "[(517, 41),\n",
       " (649, 40),\n",
       " (728, 20),\n",
       " (980, 13),\n",
       " (770, 11),\n",
       " (638, 10),\n",
       " (686, 9),\n",
       " (759, 8),\n",
       " (913, 8),\n",
       " (931, 8)]"
      ]
     },
     "execution_count": 49,
     "metadata": {},
     "output_type": "execute_result"
    }
   ],
   "source": [
    "sorted(bow_for_docs[2],  key=lambda x: x[1], reverse=True)[:10]"
   ]
  },
  {
   "cell_type": "markdown",
   "id": "d39bfd36-f1f3-4049-857b-4784e741e799",
   "metadata": {},
   "source": [
    "##### Ordered by the least frequent - top 10"
   ]
  },
  {
   "cell_type": "code",
   "execution_count": 51,
   "id": "13473caa-acec-4e87-9113-c9d5ee3620dd",
   "metadata": {},
   "outputs": [
    {
     "data": {
      "text/plain": [
       "[(5, 1),\n",
       " (11, 1),\n",
       " (16, 1),\n",
       " (26, 1),\n",
       " (31, 1),\n",
       " (41, 1),\n",
       " (43, 1),\n",
       " (50, 1),\n",
       " (61, 1),\n",
       " (66, 1)]"
      ]
     },
     "execution_count": 51,
     "metadata": {},
     "output_type": "execute_result"
    }
   ],
   "source": [
    "sorted(bow_for_docs[2],  key=lambda x: x[1])[:10]"
   ]
  },
  {
   "cell_type": "markdown",
   "id": "9f8839d9-4b77-44f3-b479-0ba8dd549444",
   "metadata": {},
   "source": [
    "#### Check the actual words"
   ]
  },
  {
   "cell_type": "code",
   "execution_count": 180,
   "id": "0125b030-0d82-47c3-ab9c-6f968fc52f7c",
   "metadata": {},
   "outputs": [
    {
     "name": "stdout",
     "output_type": "stream",
     "text": [
      "LOC | WORD NUMBER |  WORD FREQ  | THE ACTUAL WORD\n",
      "--------------------------------------------------\n",
      "  0 |       5     |       1     |     adventur\n",
      "  1 |      11     |       1     |     ambiti\n",
      "  2 |      16     |       1     |     arc\n",
      "  3 |      18     |       4     |     audienc\n",
      "  4 |      26     |       1     |     bizarr\n",
      "  5 |      31     |       1     |     board\n",
      "  6 |      39     |       3     |     budget\n",
      "  7 |      40     |       3     |     built\n",
      "  8 |      41     |       1     |     cabl\n",
      "  9 |      43     |       1     |     cancel\n",
      " 10 |      49     |       5     |     charact\n"
     ]
    }
   ],
   "source": [
    "limit = 10\n",
    "space = '    '\n",
    "tmp_words = bow_for_docs[2]\n",
    "\n",
    "print(f'LOC | WORD NUMBER |  WORD FREQ  | THE ACTUAL WORD')\n",
    "print('--------------------------------------------------')\n",
    "for i in range(len(tmp_words)):\n",
    "    num = str(tmp_words[i][0])\n",
    "    while len(num) < 3: num = ' '+num\n",
    "        \n",
    "    freq = str(tmp_words[i][1])\n",
    "    while len(freq) < 3: freq = ' '+freq\n",
    "\n",
    "    loc = str(i)\n",
    "    while len(loc) < 3: loc = ' '+loc\n",
    "\n",
    "    print(f'{loc} | {space}{num}{space} | {space}{freq}{space} | {space}{dict_of_words[tmp_words[i][0]]}')\n",
    "    if i == limit: break"
   ]
  },
  {
   "cell_type": "markdown",
   "id": "1e0ee3c7-c5c3-42c8-831e-5b9c01e6e5a9",
   "metadata": {},
   "source": [
    "### TF-IDF"
   ]
  },
  {
   "cell_type": "code",
   "execution_count": 105,
   "id": "3d32fff4-476a-49f5-b7bd-61939e656672",
   "metadata": {},
   "outputs": [],
   "source": [
    "idf = models.TfidfModel(bow_for_docs)"
   ]
  },
  {
   "cell_type": "markdown",
   "id": "80c35066-dff7-46ca-8174-955c10ff8ddc",
   "metadata": {},
   "source": [
    "##### Transforming"
   ]
  },
  {
   "cell_type": "code",
   "execution_count": 108,
   "id": "a23eaa9a-3e20-45fe-9834-d9c4211def9f",
   "metadata": {},
   "outputs": [],
   "source": [
    "tdf_data = idf[bow_for_docs]"
   ]
  },
  {
   "cell_type": "markdown",
   "id": "9b0e4bc9-6f8b-4e12-851a-4159b13cdd5f",
   "metadata": {},
   "source": [
    "##### (id, score)"
   ]
  },
  {
   "cell_type": "code",
   "execution_count": 118,
   "id": "832efc36-4c7c-42d8-9557-0468e45be432",
   "metadata": {},
   "outputs": [
    {
     "name": "stdout",
     "output_type": "stream",
     "text": [
      "[(0, 0.015478959057446923), (1, 0.012365447563896025), (2, 0.01890746695108075), (3, 0.012502690603094915), (4, 0.011984062827162469), (5, 0.020523541608644492), (6, 0.015227182589769604), (7, 0.11081895116417972), (8, 0.011921362809765527), (9, 0.01665278701142758), (10, 0.03410854322226277), (11, 0.018483863961796826), (12, 0.016047319220607432), (13, 0.034013609410010866), (14, 0.012789150604182389), (15, 0.016250003948498216), (16, 0.0316115763113638), (17, 0.016496878996472127), (18, 0.18158696326799126), (19, 0.027367336605085904), (20, 0.019546777774875762), (21, 0.0742679533618682), (22, 0.031015388537486425), (23, 0.026869514749103846), (24, 0.021000730869090756), (25, 0.03046593774327872), (26, 0.02038032475300019), (27, 0.013288816494756946), (28, 0.022541512871759723), (29, 0.021959038197401203), (30, 0.018645903434227902), (31, 0.011829266273268656), (32, 0.04139491682670043), (33, 0.01984032567888331), (34, 0.016582602982426465), (35, 0.026315185252322112), (36, 0.020650586664685066), (37, 0.029024249174787835), (38, 0.015432706224276858), (39, 0.013791916771219256), (40, 0.012565855312888445), (41, 0.01853046417491898), (42, 0.017183188963804955), (43, 0.033599308492227004), (44, 0.0156612714414737), (45, 0.017116508312146072), (46, 0.013347316495685543), (47, 0.015337802963948152), (48, 0.034863539037615736), (49, 0.0644905201424311), (50, 0.019919804367346902), (51, 0.03306874568171684), (52, 0.017047209850589332), (53, 0.02516734104401737), (54, 0.0326215344317333), (55, 0.03342709842636945), (56, 0.019193714129655662), (57, 0.04171675889089238), (58, 0.01860061290770805), (59, 0.025278363171112206), (60, 0.013400333853175347), (61, 0.01741269756366475), (62, 0.0774960423273553), (63, 0.014721250685959633), (64, 0.030997472030779464), (65, 0.013736201687987377), (66, 0.014428498268947269), (67, 0.03914581258395633), (68, 0.029529525707467932), (69, 0.011256083748329291), (70, 0.02881920136125989), (71, 0.03536409277626381), (72, 0.46579409998301397), (73, 0.03813597911422833), (74, 0.012515394883532887), (75, 0.033466182249791504), (76, 0.02005141372747155), (77, 0.20045786731623827), (78, 0.01396211312895744), (79, 0.02847279221153009), (80, 0.029771891372230325), (81, 0.031093879189924085), (82, 0.03565072723507398), (83, 0.029475188734563302), (84, 0.028899080194600017), (85, 0.022260915911682527), (86, 0.02539200855836914), (87, 0.01829498598484662), (88, 0.014892310971512607), (89, 0.024617807891882525), (90, 0.014706046525412485), (91, 0.029910588658507598), (92, 0.021685334294028132), (93, 0.02755176587309344), (94, 0.024782340359818585), (95, 0.011570445793760393), (96, 0.0511734191494001), (97, 0.016388750925817222), (98, 0.014357885840716766), (99, 0.01721505203622212), (100, 0.055041064763245155), (101, 0.01750494056551689), (102, 0.0268802004527239), (103, 0.016727310441652696), (104, 0.026772410153989172), (105, 0.01967757653570613), (106, 0.017171407661596878), (107, 0.020699342817207898), (108, 0.02035569442449297), (109, 0.1228560545827671), (110, 0.05135035878985023), (111, 0.011817951562724928), (112, 0.022559384988931938), (113, 0.028597732762997194), (114, 0.019278528117266207), (115, 0.015036465544409457), (116, 0.01518267919425775), (117, 0.01479247790188015), (118, 0.014143373921929702), (119, 0.014344792076959567), (120, 0.022511200913155987), (121, 0.011130457955841264), (122, 0.035019008842191966), (123, 0.0416135669931808), (124, 0.019095492980826356), (125, 0.023508877552325856), (126, 0.0243441929251254), (127, 0.019393512257011764), (128, 0.013105403769854168), (129, 0.04690862791415348), (130, 0.021566507861093008), (131, 0.028332550767588775), (132, 0.014568167434502455), (133, 0.018857087091917437), (134, 0.015302691503077526), (135, 0.018027049424636087), (136, 0.03257679047386666), (137, 0.014563428316809202), (138, 0.016485877656764687), (139, 0.045800189420606444), (140, 0.035983624001070094), (141, 0.026450339351430954), (142, 0.028597732762997194), (143, 0.0157669005153045), (144, 0.05065488925082534), (145, 0.033729206280185366), (146, 0.03189293960166262), (147, 0.01396118429999149), (148, 0.022456572946235792), (149, 0.02001367563927076), (150, 0.013703519933559161), (151, 0.047894428394233975), (152, 0.025675179394925116), (153, 0.03127729603512987), (154, 0.022817417203888767), (155, 0.025347218304998937), (156, 0.013452688597691088), (157, 0.011593665852065574), (158, 0.033168409922108344), (159, 0.03329602925977902), (160, 0.018455409706066003), (161, 0.012052272489799521), (162, 0.023264852055695267), (163, 0.0150069406301305), (164, 0.024136209692400993), (165, 0.011764420141549421), (166, 0.10841510633217978), (167, 0.016912395705752852), (168, 0.020813779795904704), (169, 0.012896242956385145), (170, 0.0437875886741875), (171, 0.07150192092857856), (172, 0.19049471367315143), (173, 0.04540600020820776), (174, 0.014311213817892141), (175, 0.04119504742221979), (176, 0.018101150566996422), (177, 0.02842558927347504), (178, 0.027004423905302572), (179, 0.08777746510869282), (180, 0.012187808426033871), (181, 0.04978747626294984), (182, 0.014875995582716215), (183, 0.04771144343323693), (184, 0.01662846976658369), (185, 0.024071183657628226), (186, 0.0202584153110029), (187, 0.021609585629546794), (188, 0.022727509150950766), (189, 0.018404846362115836), (190, 0.015025444873333207), (191, 0.017491377782916567), (192, 0.013411090649368148), (193, 0.028187333978677707), (194, 0.09503378540465003), (195, 0.027622791719959634), (196, 0.10159297921309432), (197, 0.06054247559640872), (198, 0.037267241273976584), (199, 0.019068561551088166), (200, 0.011860669697888395), (201, 0.02074859825370429), (202, 0.013557431108268087), (203, 0.020039896846478725), (204, 0.01800439405999978), (205, 0.09876893623550628), (206, 0.020583883797463415), (207, 0.014347307341768872), (208, 0.027428030669530205), (209, 0.02337882617029986), (210, 0.019148446992209252), (211, 0.025082207126245728), (212, 0.025317588185928327), (213, 0.013906698451685658), (214, 0.10980395943072745), (215, 0.020727697826334344), (216, 0.012875818548688522), (217, 0.011665158559225829), (218, 0.02415163854535845), (219, 0.38791173873401097), (220, 0.037119594886309504), (221, 0.026136798648158703), (222, 0.011833739943520058), (223, 0.019384900006214536), (224, 0.0409028003240872), (225, 0.0235462035587849), (226, 0.026693123620517664), (227, 0.01868046307533178), (228, 0.016855270859426813), (229, 0.01210154770481402), (230, 0.02351225888166386), (231, 0.030671271271258183), (232, 0.1183696193934121), (233, 0.02842558927347504), (234, 0.011180992536306344), (235, 0.02277080323969257), (236, 0.029673474828126944), (237, 0.054948118324530004), (238, 0.01924916074692987), (239, 0.015706448012997826), (240, 0.01980576684397376), (241, 0.025691115160308687), (242, 0.013426024500801308), (243, 0.022068021950634745), (244, 0.026766839879187092), (245, 0.011767950805362385), (246, 0.013753070902310208), (247, 0.03532450456278432), (248, 0.017716149882797638), (249, 0.022821394036452024), (250, 0.01745475613739619), (251, 0.09140642846631043), (252, 0.03595553132567231), (253, 0.015476413104874461), (254, 0.012966719540098717), (255, 0.03813597911422833), (256, 0.02349874780315843), (257, 0.013555723487486782), (258, 0.09101111020369713), (259, 0.027909426178769816), (260, 0.022688419424339117), (261, 0.011334517133000063), (262, 0.022283198950985947), (263, 0.023194861027483308), (264, 0.013906239334538816), (265, 0.019804201872173643), (266, 0.02165995196185282), (267, 0.17129576325860005), (268, 0.031575274699163686), (269, 0.02199838353568845), (270, 0.027059514216802825), (271, 0.045992713801417714), (272, 0.01381483520389588), (273, 0.017645710160539882), (274, 0.020680531918045777), (275, 0.025205667468196538), (276, 0.03411131839965838), (277, 0.027307398872668392), (278, 0.029492667515788728), (279, 0.08422555398831182), (280, 0.019953581050700817), (281, 0.0117013073900145), (282, 0.01813420870939456), (283, 0.022889402604463375), (284, 0.049182415473195365), (285, 0.02802039690415389), (286, 0.026225165018100995), (287, 0.017792783592799524), (288, 0.022817417203888767), (289, 0.015229599949179815), (290, 0.02215141150756521), (291, 0.01787799108012715), (292, 0.0235359949788257), (293, 0.018691624474453068), (294, 0.05035880317898852), (295, 0.01866562138460958), (296, 0.024844404973007092), (297, 0.052062151674338183), (298, 0.0419334764264568), (299, 0.013200396711206023), (300, 0.012035751501351749), (301, 0.029612971630561705), (302, 0.016234335159882082), (303, 0.01398305934054066), (304, 0.03017349238622912), (305, 0.018535269310968182), (306, 0.017727313375231), (307, 0.017980773767605086), (308, 0.02477793766771694), (309, 0.019632070607020435), (310, 0.024099550233084733), (311, 0.01852926364058472), (312, 0.01637185775754637), (313, 0.04838255058521773), (314, 0.029825283707983437), (315, 0.020249824594689565), (316, 0.047281325584703104), (317, 0.011947872322139038), (318, 0.020260135296998417), (319, 0.015501933476642377), (320, 0.017352170573416047), (321, 0.03575807913717169), (322, 0.03041938594652343), (323, 0.028422747626858428), (324, 0.345038762800202), (325, 0.021016810920122853), (326, 0.030409758843823093), (327, 0.05313932935585986), (328, 0.019387769043451537), (329, 0.031485701518700164), (330, 0.01191923619766731), (331, 0.02738243847239054), (332, 0.014796895758250635), (333, 0.01454189789468178), (334, 0.02466513493555488), (335, 0.12341524449036734), (336, 0.029771891372230325), (337, 0.01613845766739337), (338, 0.034377272471889216), (339, 0.015424515871887487), (340, 0.02274766457433544), (341, 0.02745098985768186), (342, 0.022852048060793932), (343, 0.029949119765373032), (344, 0.02774354971395865), (345, 0.022073034916992855), (346, 0.02529793569368488), (347, 0.01850531566587058), (348, 0.030198010599024598), (349, 0.013202775907026284), (350, 0.023525808019595622), (351, 0.011928661197638945), (352, 0.014740869778225535)]\n"
     ]
    }
   ],
   "source": [
    "for i in tdf_data:\n",
    "    print(i)\n",
    "    break"
   ]
  },
  {
   "cell_type": "markdown",
   "id": "d464c147-f9f3-47cf-8f2f-0dd0e2762540",
   "metadata": {},
   "source": [
    "### LDA\n",
    "Training"
   ]
  },
  {
   "cell_type": "code",
   "execution_count": 131,
   "id": "8142214a-bb88-4000-aae6-6a718cc329f8",
   "metadata": {},
   "outputs": [],
   "source": [
    "lda = gensim.models.LdaMulticore(bow_for_docs, num_topics=10, id2word=dict_of_words, passes=3, workers=3)"
   ]
  },
  {
   "cell_type": "markdown",
   "id": "b34cec3d-0030-494c-8e09-a6ddadd49eb9",
   "metadata": {},
   "source": [
    "##### Lets view the words"
   ]
  },
  {
   "cell_type": "code",
   "execution_count": 132,
   "id": "1f92d068-9ee2-401a-99a5-3bd1099a19fe",
   "metadata": {},
   "outputs": [
    {
     "name": "stdout",
     "output_type": "stream",
     "text": [
      "Topic: 0 \n",
      "Words: 0.011*\"reuter\" + 0.009*\"price\" + 0.008*\"bank\" + 0.007*\"stock\" + 0.007*\"insur\" + 0.006*\"delay\" + 0.006*\"economi\" + 0.006*\"worker\" + 0.006*\"thomson\" + 0.005*\"financ\"\n",
      "---\n",
      "\n",
      "Topic: 1 \n",
      "Words: 0.015*\"player\" + 0.013*\"season\" + 0.009*\"sport\" + 0.008*\"leagu\" + 0.008*\"coach\" + 0.005*\"footbal\" + 0.005*\"field\" + 0.005*\"ball\" + 0.004*\"athlet\" + 0.004*\"match\"\n",
      "---\n",
      "\n",
      "Topic: 2 \n",
      "Words: 0.008*\"russia\" + 0.008*\"russian\" + 0.008*\"korea\" + 0.007*\"islam\" + 0.007*\"china\" + 0.006*\"syria\" + 0.005*\"minist\" + 0.005*\"nuclear\" + 0.005*\"muslim\" + 0.005*\"iran\"\n",
      "---\n",
      "\n",
      "Topic: 3 \n",
      "Words: 0.005*\"sander\" + 0.005*\"poll\" + 0.004*\"nomine\" + 0.004*\"cruz\" + 0.003*\"primari\" + 0.003*\"nomin\" + 0.003*\"bush\" + 0.003*\"tweet\" + 0.003*\"liber\" + 0.003*\"convent\"\n",
      "---\n",
      "\n",
      "Topic: 4 \n",
      "Words: 0.005*\"film\" + 0.004*\"music\" + 0.004*\"movi\" + 0.003*\"charact\" + 0.003*\"artist\" + 0.002*\"song\" + 0.002*\"beauti\" + 0.002*\"girl\" + 0.002*\"father\" + 0.002*\"writer\"\n",
      "---\n",
      "\n",
      "Topic: 5 \n",
      "Words: 0.007*\"crime\" + 0.007*\"attorney\" + 0.006*\"lawyer\" + 0.006*\"shoot\" + 0.006*\"prison\" + 0.006*\"crimin\" + 0.005*\"comey\" + 0.005*\"protest\" + 0.005*\"arrest\" + 0.005*\"prosecutor\"\n",
      "---\n",
      "\n",
      "Topic: 6 \n",
      "Words: 0.015*\"facebook\" + 0.010*\"googl\" + 0.010*\"appl\" + 0.009*\"user\" + 0.009*\"internet\" + 0.007*\"onlin\" + 0.007*\"phone\" + 0.006*\"car\" + 0.006*\"site\" + 0.006*\"network\"\n",
      "---\n",
      "\n",
      "Topic: 7 \n",
      "Words: 0.016*\"student\" + 0.008*\"medic\" + 0.008*\"parent\" + 0.007*\"patient\" + 0.007*\"educ\" + 0.007*\"doctor\" + 0.007*\"colleg\" + 0.006*\"hospit\" + 0.005*\"test\" + 0.005*\"drug\"\n",
      "---\n",
      "\n",
      "Topic: 8 \n",
      "Words: 0.010*\"suprem\" + 0.009*\"judg\" + 0.009*\"drug\" + 0.008*\"abort\" + 0.008*\"church\" + 0.007*\"uber\" + 0.006*\"religi\" + 0.006*\"flight\" + 0.006*\"constitut\" + 0.005*\"christian\"\n",
      "---\n",
      "\n",
      "Topic: 9 \n",
      "Words: 0.009*\"water\" + 0.007*\"food\" + 0.004*\"park\" + 0.004*\"climat\" + 0.004*\"island\" + 0.004*\"foot\" + 0.004*\"resid\" + 0.004*\"mile\" + 0.004*\"land\" + 0.003*\"town\"\n",
      "---\n",
      "\n"
     ]
    }
   ],
   "source": [
    "for i, topic in lda.print_topics(-1):\n",
    "    print(f\"Topic: {i} \\nWords: {topic}\\n---\\n\")"
   ]
  },
  {
   "cell_type": "markdown",
   "id": "076891b9-e7bf-40d3-88b9-821bdd774fcd",
   "metadata": {},
   "source": [
    "#### Topic Classification"
   ]
  },
  {
   "cell_type": "code",
   "execution_count": 129,
   "id": "1726bf40-9a41-454b-96f3-46a79be85b5b",
   "metadata": {},
   "outputs": [
    {
     "data": {
      "text/plain": [
       "'Topic: 0 Words: 0.015*\"player\" + 0.012*\"season\" + 0.009*\"sport\" + 0.008*\"leagu\" + 0.007*\"coach\" + 0.007*\"olymp\" + 0.006*\"athlet\" + 0.005*\"footbal\" + 0.005*\"field\" + 0.005*\"ball\"'"
      ]
     },
     "execution_count": 129,
     "metadata": {},
     "output_type": "execute_result"
    }
   ],
   "source": [
    "'Topic: 0 Words: 0.015*\"player\" + 0.012*\"season\" + 0.009*\"sport\" + 0.008*\"leagu\" + 0.007*\"coach\" + 0.007*\"olymp\" + 0.006*\"athlet\" + 0.005*\"footbal\" + 0.005*\"field\" + 0.005*\"ball\"'"
   ]
  },
  {
   "cell_type": "code",
   "execution_count": null,
   "id": "f4779fdc-26be-4e55-9dbf-a1297e1016cd",
   "metadata": {},
   "outputs": [],
   "source": []
  },
  {
   "cell_type": "markdown",
   "id": "68b724e2-a1c3-4d45-9e0c-2fe537056c27",
   "metadata": {},
   "source": [
    "### LDA + TF-IDF\n",
    "Training"
   ]
  },
  {
   "cell_type": "code",
   "execution_count": 187,
   "id": "8cda9c0e-dc97-49c5-8806-9ef5d6303979",
   "metadata": {},
   "outputs": [],
   "source": [
    "lda_idf = gensim.models.LdaMulticore(tdf_data, num_topics=5, id2word=dict_of_words, passes=4, workers=6)"
   ]
  },
  {
   "cell_type": "code",
   "execution_count": 188,
   "id": "e1b6466f-90d9-4766-a919-10f53220c970",
   "metadata": {},
   "outputs": [
    {
     "name": "stdout",
     "output_type": "stream",
     "text": [
      "Topic: 0 \n",
      "Words: 0.004*\"sander\" + 0.003*\"cruz\" + 0.003*\"comey\" + 0.003*\"poll\" + 0.003*\"russian\" + 0.003*\"nomine\" + 0.003*\"russia\" + 0.002*\"intellig\" + 0.002*\"ryan\" + 0.002*\"rubio\"\n",
      "---\n",
      "\n",
      "Topic: 1 \n",
      "Words: 0.005*\"season\" + 0.005*\"player\" + 0.004*\"leagu\" + 0.004*\"coach\" + 0.003*\"storm\" + 0.003*\"yanke\" + 0.003*\"hurrican\" + 0.003*\"water\" + 0.002*\"footbal\" + 0.002*\"basebal\"\n",
      "---\n",
      "\n",
      "Topic: 2 \n",
      "Words: 0.002*\"film\" + 0.002*\"music\" + 0.001*\"movi\" + 0.001*\"food\" + 0.001*\"artist\" + 0.001*\"song\" + 0.001*\"charact\" + 0.001*\"space\" + 0.001*\"season\" + 0.001*\"anim\"\n",
      "---\n",
      "\n",
      "Topic: 3 \n",
      "Words: 0.005*\"reuter\" + 0.003*\"china\" + 0.003*\"korea\" + 0.003*\"thomson\" + 0.002*\"bank\" + 0.002*\"delay\" + 0.002*\"syria\" + 0.002*\"stock\" + 0.002*\"price\" + 0.002*\"nuclear\"\n",
      "---\n",
      "\n",
      "Topic: 4 \n",
      "Words: 0.003*\"student\" + 0.002*\"protest\" + 0.002*\"sexual\" + 0.002*\"facebook\" + 0.002*\"shoot\" + 0.002*\"crime\" + 0.002*\"educ\" + 0.002*\"violenc\" + 0.002*\"judg\" + 0.002*\"victim\"\n",
      "---\n",
      "\n"
     ]
    }
   ],
   "source": [
    "for i, topic in lda_idf.print_topics(-1):\n",
    "    print(f\"Topic: {i} \\nWords: {topic}\\n---\\n\")"
   ]
  },
  {
   "cell_type": "markdown",
   "id": "57b7df00-1341-4af3-ad10-e17fc790de88",
   "metadata": {},
   "source": [
    "#### Topic Classification"
   ]
  },
  {
   "cell_type": "code",
   "execution_count": 189,
   "id": "7b283e9d-5ef6-4eb6-9dfd-294bf267114a",
   "metadata": {},
   "outputs": [
    {
     "data": {
      "text/plain": [
       "'Topic: 0 Words: 0.010*\"olymp\" + 0.009*\"yanke\" + 0.008*\"player\" + 0.007*\"athlet\" + 0.007*\"met\" + 0.006*\"cuban\" + 0.006*\"cuba\" + 0.006*\"basebal\" + 0.006*\"leagu\" + 0.006*\"season\"'"
      ]
     },
     "execution_count": 189,
     "metadata": {},
     "output_type": "execute_result"
    }
   ],
   "source": [
    "'Topic: 0 Words: 0.010*\"olymp\" + 0.009*\"yanke\" + 0.008*\"player\" + 0.007*\"athlet\" + 0.007*\"met\" + 0.006*\"cuban\" + 0.006*\"cuba\" + 0.006*\"basebal\" + 0.006*\"leagu\" + 0.006*\"season\"'"
   ]
  },
  {
   "cell_type": "markdown",
   "id": "361f8f12-f978-44ef-b41d-03d7d4caa0ef",
   "metadata": {},
   "source": [
    "### Testing\n",
    "###### Using these parameters"
   ]
  },
  {
   "cell_type": "code",
   "execution_count": 190,
   "id": "2579df64-22bd-4d3c-b32f-216a52180dfc",
   "metadata": {},
   "outputs": [
    {
     "name": "stdout",
     "output_type": "stream",
     "text": [
      "['dodger', 'reliev', 'paco', 'rodriguez', 'fire', 'pitch', 'loui', 'cardin', 'season', 'near', 'perfect', 'think', 'mean', 'spring', 'train', 'know', 'like', 'exhibit', 'season', 'litter', 'spotless', 'era', 'high', 'bat', 'averag', 'sent', 'minor', 'dodger', 'plenti', 'roster', 'open', 'uncertain', 'bullpen', 'think', 'left', 'hander', 'paco', 'rodriguez', 'earn', 'spot', 'like', 'think', 'excel', 'outing', 'dodger', 'loss', 'giant', 'friday', 'night', 'camelback', 'ranch', 'rodriguez', 'perfect', 'spring', 'reason', 'demand', 'appear', 'rodriguez', 'given', 'inning', 'surrend', 'hit', 'walk', 'strike', 'reason', 'slam', 'dunk', 'team', 'option', 'good', 'reason', 'pitch', 'came', 'friday', 'game', 'replac', 'zack', 'greink', 'out', 'fourth', 'inning', 'runner', 'second', 'base', 'right', 'hander', 'given', 'run', 'giant', 'lead', 'situat', 'unlik', 'dodger', 'open', 'camp', 'surplus', 'left', 'hand', 'reliev', 'spent', 'season', 'howel', 'hard', 'come', 'day', 'remain', 'season', 'open', 'rodriguez', 'match', 'giant', 'left', 'hand', 'hit', 'outfield', 'nori', 'aoki', 'rodriguez', 'exact', 'suppos', 'strike', 'aoki', 'swing', 'pitch', 'prove', 'best', 'night', 'greink', 'gave', 'run', 'earn', 'hit', 'pair', 'walk', 'struck', 'giant', 'yimi', 'garcia', 'bullpen', 'candid', 'given', 'seven', 'appear', 'andrew', 'susac', 'solo', 'homer', 'sixth', 'reliev', 'mike', 'adam', 'david', 'aardsma', 'gave', 'dodger', 'scoreless', 'inning', 'taiwan', 'chin', 'tsao', 'start', 'impress', 'spring', 'continu', 'wrong', 'direct', 'gave', 'run', 'ninth', 'hit', 'walk', 'reliev', 'brandon', 'leagu', 'expect', 'sidelin', 'coupl', 'month', 'shoulder', 'inflamm', 'manag', 'mat', 'said', 'extend', 'period', 'time', 'mat', 'said', 'result', 'leagu', 'recent', 'examin', 'review', 'friday', 'team', 'physician', 'neal', 'elattrach', 'offens', 'dodger', 'manag', 'hit', 'score', 'run', 'inning', 'adrian', 'gonzalez', 'doubl']\n"
     ]
    }
   ],
   "source": [
    "loc = 4321\n",
    "tmp_doc = pp_data[loc]\n",
    "print(tmp_doc)"
   ]
  },
  {
   "cell_type": "markdown",
   "id": "d521d536-6224-4cc3-a856-187c8b8ced59",
   "metadata": {},
   "source": [
    "###### Using this article"
   ]
  },
  {
   "cell_type": "code",
   "execution_count": 191,
   "id": "7b2cd6e1-e67f-4b2d-a268-e6afb3249245",
   "metadata": {},
   "outputs": [
    {
     "name": "stdout",
     "output_type": "stream",
     "text": [
      "original: Dodgers reliever Paco Rodriguez fires a pitch against the St. Louis Cardinals last season.', 'If you’re nearly perfect, you’d think that would mean something in spring training. You know, like a job. But the exhibition season is littered with those with spotless ERAs and high batting averages sent back to the minors.', 'The Dodgers have plenty of roster openings in their uncertain bullpen and you’d have to think left-hander Paco Rodriguez has earned a spot. Anyway, you’d like to think so.', 'After another excellent outing in the Dodgers’ 8-4 loss to the Giants on Friday night at Camelback Ranch, Rodriguez has been about as perfect this spring as anyone would have reason to demand.', 'In his eight appearances, Rodriguez has not given up a run. In his 8 1/3 innings, he has surrendered only three hits and no walks while striking out 10. The only reason he’s not a slam dunk to make the team is because he can still be optioned. And that’s not a good enough reason, not the way he’s pitching.', 'He came into Friday’s game to replace Zack Greinke with two outs in the fourth inning and runners at second and third bases after the right-hander had given up two runs to give the Giants a 4-3 lead.', 'Here’s a -- what should we call it? -- situation that seemed unlikely before the Dodgers opened camp: A surplus of left-handed relievers.', 'Since they spent most of last season using just one, J.P. Howell, this was hard to see coming. Yet with only 10 days remaining before their season opener, they...', 'Rodriguez was matched against Giants left-handed hitting outfielder Nori Aoki. And then Rodriguez did exactly what he was supposed to do, striking Aoki out swinging on three pitches.', 'It did not, however, prove the best night for Greinke, who gave up the four runs (two earned) on five hits and a pair of walks. He struck out one.', 'The Giants also got to Yimi Garcia, another bullpen candidate who had not given up a run in his first seven appearances, when Andrew Susac hit a solo homer in the sixth.', 'Relievers Mike Adams and David Aardsma each gave the Dodgers a scoreless inning, but Taiwan’s Chin-hui Tsao -- who had started impressively this spring -- continued to go the wrong direction. He gave up three runs in the ninth on three hits and a walk.', 'Reliever Brandon League is expected to be sidelined for a couple of months with shoulder inflammation, Manager Don Mattingly said.', '\"It\\'s an extended period of time,\" Mattingly said.', \"The results of League's recent MRI examination were reviewed Friday by team physician Neal ElAttrache, as well as...\", 'Offensively, the Dodgers managed only five hits. They scored all their runs in the first inning, Adrian Gonzalez doubling in two.\n"
     ]
    }
   ],
   "source": [
    "print('original:',df['content'].iloc[loc])"
   ]
  },
  {
   "cell_type": "markdown",
   "id": "4491a3d2-9e61-4293-af2b-3159c50173e9",
   "metadata": {},
   "source": [
    "#### LDA model"
   ]
  },
  {
   "cell_type": "markdown",
   "id": "5320b580-31b8-40fa-a79c-38be605450d8",
   "metadata": {},
   "source": [
    "##### Lets check which topic 'tmp_doc' belongs to"
   ]
  },
  {
   "cell_type": "code",
   "execution_count": 192,
   "id": "0727164b-faf9-4537-a1e9-ff01c2555c32",
   "metadata": {},
   "outputs": [
    {
     "name": "stdout",
     "output_type": "stream",
     "text": [
      "Score: 0.9723467826843262\t \n",
      "Topic: 0.015*\"player\" + 0.013*\"season\" + 0.009*\"sport\" + 0.008*\"leagu\" + 0.008*\"coach\" + 0.005*\"footbal\" + 0.005*\"field\" + 0.005*\"ball\" + 0.004*\"athlet\" + 0.004*\"match\"\n",
      "\n",
      "Score: 0.01307009533047676\t \n",
      "Topic: 0.016*\"student\" + 0.008*\"medic\" + 0.008*\"parent\" + 0.007*\"patient\" + 0.007*\"educ\" + 0.007*\"doctor\" + 0.007*\"colleg\" + 0.006*\"hospit\" + 0.005*\"test\" + 0.005*\"drug\"\n",
      "\n"
     ]
    }
   ],
   "source": [
    "for i, conf in sorted(lda[bow_for_docs[loc]], key=lambda x: x[1]*-1):\n",
    "    print(f\"Score: {conf}\\t \\nTopic: {lda.print_topic(i, 10)}\\n\")"
   ]
  },
  {
   "cell_type": "markdown",
   "id": "1eafdfef-0dd9-4b37-b30a-d87a07f0d1da",
   "metadata": {},
   "source": [
    "###### After viewing the original text and the cluster/classification is 'topic 1' which is sports with 97% confidence the model is correct. Then remaining 13% is placed on the 'topic 7' which is Education/Health."
   ]
  },
  {
   "cell_type": "markdown",
   "id": "039df797-1a37-4cef-be54-08428e77be97",
   "metadata": {},
   "source": [
    "### Testing LDA + TF-IDF model"
   ]
  },
  {
   "cell_type": "code",
   "execution_count": 193,
   "id": "79fb5d59-06f1-49ba-8022-63ab182129f4",
   "metadata": {},
   "outputs": [
    {
     "name": "stdout",
     "output_type": "stream",
     "text": [
      "Score: 0.9860479831695557\t \n",
      "Topic: 0.005*\"season\" + 0.005*\"player\" + 0.004*\"leagu\" + 0.004*\"coach\" + 0.003*\"storm\" + 0.003*\"yanke\" + 0.003*\"hurrican\" + 0.003*\"water\" + 0.002*\"footbal\" + 0.002*\"basebal\"\n",
      "\n"
     ]
    }
   ],
   "source": [
    "for i, conf in sorted(lda_idf[bow_for_docs[loc]], key=lambda x: x[1]*-1):\n",
    "    print(f\"Score: {conf}\\t \\nTopic: {lda_idf.print_topic(i, 10)}\\n\")"
   ]
  },
  {
   "cell_type": "markdown",
   "id": "4d5dd0a8-c05f-420c-a48e-872d91ae59c9",
   "metadata": {},
   "source": [
    "###### After viewing the original and the the cluster/classification. It appears that the model is 91% confident that the topic is 'topic 0' Which is sports. That is the correct classification for the document. The model is 5% and 2% sure that the document is 'topic 2' and 'topic 1' respectively.\n"
   ]
  },
  {
   "cell_type": "markdown",
   "id": "514e3720-04d8-47cf-a494-dfb563ee0ca0",
   "metadata": {},
   "source": [
    "### Test on new documents\n",
    "article from: https://www.arabnews.com/node/1992296/sport"
   ]
  },
  {
   "cell_type": "code",
   "execution_count": 208,
   "id": "dacede25-1371-4cc4-9bcb-5ba7f834a551",
   "metadata": {},
   "outputs": [],
   "source": [
    "new_doc = 'It has been quite a year for football in Saudi Arabia, with the national team edging closer to the 2022 World Cup and Al-Hilal being crowned champions of Asia. Here is our look back at the best of 2021. Player of the Year: Salem Al-Dawsari Some years it is difficult to choose the player who has risen above the others, but in 2021 it is an easier choice than usual. Salem Al-Dawsari has been the best player in the Saudi Professional League with the team that was crowned champions. He was the best player in the team that won Asia’s biggest club prize, the AFC Champions League. He was the best player in the team that has been the best performing in qualification for the 2022 World Cup. If Asia was having an award this year, then Al-Dawsari would surely be pictured lifting the trophy in some swanky ceremony in an Asian capital. As it is, he will have to make do with being named as the MVP of the AFC Champions League and, of course, this Arab News accolade! The winger has not put a foot wrong all year and 2021 has been special with goals, assists and just all-round quality play at every level he has performed at. Goal of the Year: Nasser Al-Dawsari (vs Pohang Steelers, Nov. 23) There can’t have been a more influential goal in Asian club football for some time and it came in the biggest game of the year. This was the AFC Champions League final against Pohang Steelers in Riyadh, this was a game which Al-Hilal were desperate to win and become the first team in the history of Asian football to win four continental titles. The 22-year-old, in the team to replace Yasser Al-Shehrani on the left side of defence, picked up the ball in the middle of the Pohang half, advanced and then from around 25 meters unleashed an unstoppable shot that flew into the corner of the net. This came after just 16 seconds and it basically won the game with the Pohang coach admitting that it destroyed his game plan. It was a great goal that won a huge game. Coach of the Year: Herve Renard There are not many national teams anywhere that have improved as much in 2021 as Saudi Arabia. When it started, there was work to do to even be sure of a place in the final round of qualification for the 2022 World Cup. As the year ends, the Green Falcons are the form team in Asia and already have one foot in Qatar. The team have taken 16 points from six games, are four points above Japan in second and five above Australia in third. They will really have to mess up not to finish in the top two. It is not just about the results, the win over Japan or the disciplined draw in Sydney, but the way this increasingly tight unit is playing. Renard has introduced a level of intensity not seen for some time and the team is now as hard-working as they come. New players come in and know what they have to do and it was encouraging to see the Frenchman send an U-23 team to the Arab Cup to gain experience and competitive international action while he sat in the stands and watched. It was a far-sighted decision but, for now, the World Cup is close. Game of the Year: Al Fateh 5-5 Damac, Nov. 25 Just two days after Al-Hilal lifted the AFC Champions League trophy, there was a breathtaking game in the Saudi Pro League between two teams that don’t always make the headlines. In the previous 11 games, Al-Fateh had scored just 10 goals. In the previous 11, Damac had conceded the same number. There was little to suggest that this meeting would be the most thrilling of the year. There is not enough space to go into details of what happened on that Thursday as a team fighting relegation that had lost the previous three games traded goal after goal with the team in second. It was 2-2 after 19 minutes with Damac ahead on the stroke of half-time and then 4-2 up just after the hour. Then Al-Fateh hit three in seven minutes but the visitors still found time to make it 5-5. That it came from teams not part of the old elite and in the middle of the season meant that it was all the better. Team of the Year: Al-Hilal There is really not much of a debate with this one. When a team wins the domestic title and then goes and wins the biggest continental prize then it is hard to look elsewhere. Al-Hilal finished four points ahead of Al-Shabab with Bafetimbi Gomis scoring 24 times, but there is such strength in depth. The full-backs Yasser Al-Shahrani and Mohammed Al-Breik are one of the best pairs around. Then there is the skill and culture of Salman Al-Faraj and Salem Al-Dawsari and the energy and drive of Mohamed Kanno. Add strikers like Gomis and Moussa Marega and there is real firepower and added to the creativity of Matheus Pereira. It is a formidable team that can go through three coaches in 2021 and still keep winning. It has been a year to remember for Al-Hilal. Young Player of the Year: Nasser Al-Dawsari While there are high hopes over Al-Taawoun’s teenage defender Sulaiman Hazazi, Al-Dawsari, who turned 23 last week, has established himself as an important player for both club and country. This year, the versatile player — who can do a job in midfield or defence — has made over 30 appearances in the league for the champions. His performances were so impressive that he earned a call up to the national team from Renard. A debut came in a March friendly against Kuwait but a first competitive start came in the Green Falcons’ toughest game of the year: Australia in Sydney. It was a mature performance at left-back with the youngster coping well with the physical challenge presented by the Socceroos on their home turf. Throw in his crucial and spectacular goal in the final of the AFC Champions League and you have a spectacular season. Development of the Year: SAFF World Cup plans The proposal from the Saudi Arabia Football Federation that FIFA look into the possibility of holding the World Cup every two years instead of the current four has become a massive issue in football. It has divided the game with the reaction from Europe and South America largely negative, but with more support coming from Asia and elsewhere. It remains to be seen what will happen, but this idea that originated in Riyadh is going to run and run.'\n",
    "bow = dict_of_words.doc2bow(preprocess(new_doc))"
   ]
  },
  {
   "cell_type": "markdown",
   "id": "8bcd2584-c9ae-46ad-9623-0ad4d606cefe",
   "metadata": {},
   "source": [
    "#### Testing LDA on new article"
   ]
  },
  {
   "cell_type": "code",
   "execution_count": 209,
   "id": "577675ae-f2a6-48e8-959f-022c7db0d670",
   "metadata": {},
   "outputs": [
    {
     "name": "stdout",
     "output_type": "stream",
     "text": [
      "Score: 0.6370493173599243\t \n",
      "Topic: 0.015*\"player\" + 0.013*\"season\" + 0.009*\"sport\" + 0.008*\"leagu\" + 0.008*\"coach\" + 0.005*\"footbal\" + 0.005*\"field\" + 0.005*\"ball\" + 0.004*\"athlet\" + 0.004*\"match\"\n",
      "\n",
      "Score: 0.3329722583293915\t \n",
      "Topic: 0.008*\"russia\" + 0.008*\"russian\" + 0.008*\"korea\" + 0.007*\"islam\" + 0.007*\"china\" + 0.006*\"syria\" + 0.005*\"minist\" + 0.005*\"nuclear\" + 0.005*\"muslim\" + 0.005*\"iran\"\n",
      "\n",
      "Score: 0.026898451149463654\t \n",
      "Topic: 0.011*\"reuter\" + 0.009*\"price\" + 0.008*\"bank\" + 0.007*\"stock\" + 0.007*\"insur\" + 0.006*\"delay\" + 0.006*\"economi\" + 0.006*\"worker\" + 0.006*\"thomson\" + 0.005*\"financ\"\n",
      "\n"
     ]
    }
   ],
   "source": [
    "for i, conf in sorted(lda[bow], key=lambda x: x[1]*-1):\n",
    "    print(f\"Score: {conf}\\t \\nTopic: {lda.print_topic(i, 10)}\\n\")"
   ]
  },
  {
   "cell_type": "markdown",
   "id": "2e3442aa-7d08-4211-8c23-a8442004bbf0",
   "metadata": {},
   "source": [
    "#### Result\n",
    "The LDA model has classified the aritcle correctly into sports"
   ]
  },
  {
   "cell_type": "markdown",
   "id": "35860301-bc8c-40e9-9d0e-b3065290196c",
   "metadata": {},
   "source": [
    "#### Testing LDA + TF-IDF on new article"
   ]
  },
  {
   "cell_type": "code",
   "execution_count": 210,
   "id": "6871c38f-3006-4548-b4aa-1f4b67fee5e2",
   "metadata": {},
   "outputs": [],
   "source": [
    "new_doc = 'It has been quite a year for football in Saudi Arabia, with the national team edging closer to the 2022 World Cup and Al-Hilal being crowned champions of Asia. Here is our look back at the best of 2021. Player of the Year: Salem Al-Dawsari Some years it is difficult to choose the player who has risen above the others, but in 2021 it is an easier choice than usual. Salem Al-Dawsari has been the best player in the Saudi Professional League with the team that was crowned champions. He was the best player in the team that won Asia’s biggest club prize, the AFC Champions League. He was the best player in the team that has been the best performing in qualification for the 2022 World Cup. If Asia was having an award this year, then Al-Dawsari would surely be pictured lifting the trophy in some swanky ceremony in an Asian capital. As it is, he will have to make do with being named as the MVP of the AFC Champions League and, of course, this Arab News accolade! The winger has not put a foot wrong all year and 2021 has been special with goals, assists and just all-round quality play at every level he has performed at. Goal of the Year: Nasser Al-Dawsari (vs Pohang Steelers, Nov. 23) There can’t have been a more influential goal in Asian club football for some time and it came in the biggest game of the year. This was the AFC Champions League final against Pohang Steelers in Riyadh, this was a game which Al-Hilal were desperate to win and become the first team in the history of Asian football to win four continental titles. The 22-year-old, in the team to replace Yasser Al-Shehrani on the left side of defence, picked up the ball in the middle of the Pohang half, advanced and then from around 25 meters unleashed an unstoppable shot that flew into the corner of the net. This came after just 16 seconds and it basically won the game with the Pohang coach admitting that it destroyed his game plan. It was a great goal that won a huge game. Coach of the Year: Herve Renard There are not many national teams anywhere that have improved as much in 2021 as Saudi Arabia. When it started, there was work to do to even be sure of a place in the final round of qualification for the 2022 World Cup. As the year ends, the Green Falcons are the form team in Asia and already have one foot in Qatar. The team have taken 16 points from six games, are four points above Japan in second and five above Australia in third. They will really have to mess up not to finish in the top two. It is not just about the results, the win over Japan or the disciplined draw in Sydney, but the way this increasingly tight unit is playing. Renard has introduced a level of intensity not seen for some time and the team is now as hard-working as they come. New players come in and know what they have to do and it was encouraging to see the Frenchman send an U-23 team to the Arab Cup to gain experience and competitive international action while he sat in the stands and watched. It was a far-sighted decision but, for now, the World Cup is close. Game of the Year: Al Fateh 5-5 Damac, Nov. 25 Just two days after Al-Hilal lifted the AFC Champions League trophy, there was a breathtaking game in the Saudi Pro League between two teams that don’t always make the headlines. In the previous 11 games, Al-Fateh had scored just 10 goals. In the previous 11, Damac had conceded the same number. There was little to suggest that this meeting would be the most thrilling of the year. There is not enough space to go into details of what happened on that Thursday as a team fighting relegation that had lost the previous three games traded goal after goal with the team in second. It was 2-2 after 19 minutes with Damac ahead on the stroke of half-time and then 4-2 up just after the hour. Then Al-Fateh hit three in seven minutes but the visitors still found time to make it 5-5. That it came from teams not part of the old elite and in the middle of the season meant that it was all the better. Team of the Year: Al-Hilal There is really not much of a debate with this one. When a team wins the domestic title and then goes and wins the biggest continental prize then it is hard to look elsewhere. Al-Hilal finished four points ahead of Al-Shabab with Bafetimbi Gomis scoring 24 times, but there is such strength in depth. The full-backs Yasser Al-Shahrani and Mohammed Al-Breik are one of the best pairs around. Then there is the skill and culture of Salman Al-Faraj and Salem Al-Dawsari and the energy and drive of Mohamed Kanno. Add strikers like Gomis and Moussa Marega and there is real firepower and added to the creativity of Matheus Pereira. It is a formidable team that can go through three coaches in 2021 and still keep winning. It has been a year to remember for Al-Hilal. Young Player of the Year: Nasser Al-Dawsari While there are high hopes over Al-Taawoun’s teenage defender Sulaiman Hazazi, Al-Dawsari, who turned 23 last week, has established himself as an important player for both club and country. This year, the versatile player — who can do a job in midfield or defence — has made over 30 appearances in the league for the champions. His performances were so impressive that he earned a call up to the national team from Renard. A debut came in a March friendly against Kuwait but a first competitive start came in the Green Falcons’ toughest game of the year: Australia in Sydney. It was a mature performance at left-back with the youngster coping well with the physical challenge presented by the Socceroos on their home turf. Throw in his crucial and spectacular goal in the final of the AFC Champions League and you have a spectacular season. Development of the Year: SAFF World Cup plans The proposal from the Saudi Arabia Football Federation that FIFA look into the possibility of holding the World Cup every two years instead of the current four has become a massive issue in football. It has divided the game with the reaction from Europe and South America largely negative, but with more support coming from Asia and elsewhere. It remains to be seen what will happen, but this idea that originated in Riyadh is going to run and run.'\n",
    "bow = dict_of_words.doc2bow(preprocess(new_doc))"
   ]
  },
  {
   "cell_type": "code",
   "execution_count": 211,
   "id": "d83639d1-a908-489a-8572-585a63347012",
   "metadata": {},
   "outputs": [
    {
     "name": "stdout",
     "output_type": "stream",
     "text": [
      "Score: 0.49581873416900635\t \n",
      "Topic: 0.005*\"season\" + 0.005*\"player\" + 0.004*\"leagu\" + 0.004*\"coach\" + 0.003*\"storm\" + 0.003*\"yanke\" + 0.003*\"hurrican\" + 0.003*\"water\" + 0.002*\"footbal\" + 0.002*\"basebal\"\n",
      "\n",
      "Score: 0.41033393144607544\t \n",
      "Topic: 0.005*\"reuter\" + 0.003*\"china\" + 0.003*\"korea\" + 0.003*\"thomson\" + 0.002*\"bank\" + 0.002*\"delay\" + 0.002*\"syria\" + 0.002*\"stock\" + 0.002*\"price\" + 0.002*\"nuclear\"\n",
      "\n",
      "Score: 0.09207019209861755\t \n",
      "Topic: 0.002*\"film\" + 0.002*\"music\" + 0.001*\"movi\" + 0.001*\"food\" + 0.001*\"artist\" + 0.001*\"song\" + 0.001*\"charact\" + 0.001*\"space\" + 0.001*\"season\" + 0.001*\"anim\"\n",
      "\n"
     ]
    }
   ],
   "source": [
    "for i, conf in sorted(lda_idf[bow], key=lambda x: x[1]*-1):\n",
    "    print(f\"Score: {conf}\\t \\nTopic: {lda_idf.print_topic(i, 10)}\\n\")"
   ]
  },
  {
   "cell_type": "markdown",
   "id": "db342000-941d-4e63-91ba-e0bcefe58072",
   "metadata": {},
   "source": [
    "#### Result\n",
    "The LDA+TF-IDF model has classified the aritcle correctly into sports"
   ]
  }
 ],
 "metadata": {
  "kernelspec": {
   "display_name": "Python 3",
   "language": "python",
   "name": "python3"
  },
  "language_info": {
   "codemirror_mode": {
    "name": "ipython",
    "version": 3
   },
   "file_extension": ".py",
   "mimetype": "text/x-python",
   "name": "python",
   "nbconvert_exporter": "python",
   "pygments_lexer": "ipython3",
   "version": "3.8.8"
  },
  "toc-autonumbering": false,
  "widgets": {
   "application/vnd.jupyter.widget-state+json": {
    "state": {},
    "version_major": 2,
    "version_minor": 0
   }
  }
 },
 "nbformat": 4,
 "nbformat_minor": 5
}
